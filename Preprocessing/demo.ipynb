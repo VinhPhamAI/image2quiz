{
 "cells": [
  {
   "cell_type": "code",
   "execution_count": 1,
   "metadata": {},
   "outputs": [],
   "source": [
    "from data_transform.data_transform import PDF2img\n",
    "import os \n"
   ]
  },
  {
   "cell_type": "code",
   "execution_count": 2,
   "metadata": {},
   "outputs": [
    {
     "data": {
      "text/plain": [
       "'d:\\\\WorkSpace_Trung\\\\AI\\\\image2quiz\\\\Preprocessing'"
      ]
     },
     "execution_count": 2,
     "metadata": {},
     "output_type": "execute_result"
    }
   ],
   "source": [
    "os.getcwd()"
   ]
  },
  {
   "cell_type": "code",
   "execution_count": null,
   "metadata": {},
   "outputs": [],
   "source": [
    "cwd = os.getcwd()\n",
    "\n",
    "raw_data_path = os.path.join(cwd, 'raw_data')\n",
    "os.listdir(raw_data_path)"
   ]
  },
  {
   "cell_type": "code",
   "execution_count": 4,
   "metadata": {},
   "outputs": [
    {
     "name": "stdout",
     "output_type": "stream",
     "text": [
      "d:\\WorkSpace_Trung\\AI\\image2quiz\\Preprocessing\\raw_data\\Giải đề số 1 năm học 2021-2022 group Giải toán toán học.pdf\n",
      "d:\\WorkSpace_Trung\\AI\\image2quiz\\Preprocessing\\raw_data\\Giải đề số 10 năm học 2021-2022 group Giải toán toán học.pdf\n",
      "d:\\WorkSpace_Trung\\AI\\image2quiz\\Preprocessing\\raw_data\\Giải đề số 11 năm học 2021-2022 group Giải toán toán học.pdf\n",
      "d:\\WorkSpace_Trung\\AI\\image2quiz\\Preprocessing\\raw_data\\Giải đề số 12 năm học 2021-2022 group Giải toán toán học.pdf\n",
      "d:\\WorkSpace_Trung\\AI\\image2quiz\\Preprocessing\\raw_data\\Giải đề số 13 năm học 2021-2022 group Giải toán toán học.pdf\n",
      "d:\\WorkSpace_Trung\\AI\\image2quiz\\Preprocessing\\raw_data\\Giải đề số 14 năm học 2021-2022 group Giải toán toán học.pdf\n",
      "d:\\WorkSpace_Trung\\AI\\image2quiz\\Preprocessing\\raw_data\\Giải đề số 15 năm học 2021-2022 group Giải toán toán học.pdf\n",
      "d:\\WorkSpace_Trung\\AI\\image2quiz\\Preprocessing\\raw_data\\Giải đề số 16 năm học 2021-2022 group Giải toán toán học.pdf\n",
      "d:\\WorkSpace_Trung\\AI\\image2quiz\\Preprocessing\\raw_data\\Giải đề số 17 năm học 2021-2022 group Giải toán toán học.pdf\n",
      "d:\\WorkSpace_Trung\\AI\\image2quiz\\Preprocessing\\raw_data\\Giải đề số 18 năm học 2021-2022 group Giải toán toán học.pdf\n",
      "d:\\WorkSpace_Trung\\AI\\image2quiz\\Preprocessing\\raw_data\\Giải đề số 19 năm học 2021-2022 group Giải toán toán học.pdf\n",
      "d:\\WorkSpace_Trung\\AI\\image2quiz\\Preprocessing\\raw_data\\Giải đề số 2 năm học 2021-2022 group Giải toán toán học.pdf\n",
      "d:\\WorkSpace_Trung\\AI\\image2quiz\\Preprocessing\\raw_data\\Giải đề số 20 năm học 2021-2022 group Giải toán toán học.pdf\n",
      "d:\\WorkSpace_Trung\\AI\\image2quiz\\Preprocessing\\raw_data\\Giải đề số 3 năm học 2021-2022 group Giải toán toán học.pdf\n",
      "d:\\WorkSpace_Trung\\AI\\image2quiz\\Preprocessing\\raw_data\\Giải đề số 4 năm học 2021-2022 group Giải toán toán học.pdf\n",
      "d:\\WorkSpace_Trung\\AI\\image2quiz\\Preprocessing\\raw_data\\Giải đề số 5 năm học 2021-2022 group Giải toán toán học.pdf\n",
      "d:\\WorkSpace_Trung\\AI\\image2quiz\\Preprocessing\\raw_data\\Giải đề số 6 năm học 2021-2022 group Giải toán toán học.pdf\n",
      "d:\\WorkSpace_Trung\\AI\\image2quiz\\Preprocessing\\raw_data\\Giải đề số 7 năm học 2021-2022 group Giải toán toán học.pdf\n",
      "d:\\WorkSpace_Trung\\AI\\image2quiz\\Preprocessing\\raw_data\\Giải đề số 8 năm học 2021-2022 group Giải toán toán học.pdf\n",
      "d:\\WorkSpace_Trung\\AI\\image2quiz\\Preprocessing\\raw_data\\Giải đề số 9 năm học 2021-2022 group Giải toán toán học.pdf\n",
      "d:\\WorkSpace_Trung\\AI\\image2quiz\\Preprocessing\\raw_data\\L12 - K2004. LĐ 02 280322.pdf\n",
      "d:\\WorkSpace_Trung\\AI\\image2quiz\\Preprocessing\\raw_data\\L12 K2004 Luyện đề 01.pdf\n",
      "d:\\WorkSpace_Trung\\AI\\image2quiz\\Preprocessing\\raw_data\\L12. Ôn tập HKI - Đề 02.pdf\n",
      "d:\\WorkSpace_Trung\\AI\\image2quiz\\Preprocessing\\raw_data\\L12A - K2004. Góc.pdf\n",
      "d:\\WorkSpace_Trung\\AI\\image2quiz\\Preprocessing\\raw_data\\L12A - K2004. Hàm số mũ.pdf\n",
      "d:\\WorkSpace_Trung\\AI\\image2quiz\\Preprocessing\\raw_data\\L12A - K2004. Hệ tọa độ trong không gian .pdf\n",
      "d:\\WorkSpace_Trung\\AI\\image2quiz\\Preprocessing\\raw_data\\L12A - K2004. Logarit (B3) 1711.pdf\n",
      "d:\\WorkSpace_Trung\\AI\\image2quiz\\Preprocessing\\raw_data\\L12A - K2004. Nguyên hàm đổi biến B2.pdf\n"
     ]
    }
   ],
   "source": [
    "folder_path = os.path.join(cwd, 'img_data')\n",
    "\n",
    "pdf2img = PDF2img(folder_path)\n",
    "\n",
    "for file in os.listdir(raw_data_path): \n",
    "    file_path = os.path.join(raw_data_path, file)\n",
    "    \n",
    "    print(file_path)\n",
    "    if file.endswith(\".pdf\"):\n",
    "        pdf2img.convert(file_path, file.replace('.pdf', '.png'))\n",
    "    "
   ]
  },
  {
   "cell_type": "code",
   "execution_count": null,
   "metadata": {},
   "outputs": [],
   "source": []
  }
 ],
 "metadata": {
  "kernelspec": {
   "display_name": "img2quiz",
   "language": "python",
   "name": "python3"
  },
  "language_info": {
   "codemirror_mode": {
    "name": "ipython",
    "version": 3
   },
   "file_extension": ".py",
   "mimetype": "text/x-python",
   "name": "python",
   "nbconvert_exporter": "python",
   "pygments_lexer": "ipython3",
   "version": "3.11.9"
  }
 },
 "nbformat": 4,
 "nbformat_minor": 2
}
